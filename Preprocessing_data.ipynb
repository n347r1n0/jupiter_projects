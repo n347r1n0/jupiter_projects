{
 "cells": [
  {
   "cell_type": "markdown",
   "id": "5b3bc831",
   "metadata": {},
   "source": [
    "Привет! Меня зовут Исмаил, я буду проверять твой проект :) Можешь обращаться ко мне на «ты». Если тебе комфортно, то и я буду к тебе так обращаться, если нет, то обязательно скажи об этом.\n",
    "\n",
    "Пожалуйста, не удаляй мои комментарии, которые я буду оставлять в работе. Это особенно поможет, если твои проекты будут отправлены на повторную проверку. При повторных проверках у комментариев будут приписки: \"Вторая итерация\", \"Третья итерация\" и т.д. \n",
    "\n",
    "Ты тоже можешь реагировать на мои комментарии, но в таком случае постарайся, чтобы твои комментарии отличались от моих: например, выделяй их своим любимым цветом — так у нас не возникнет путаницы :)\n",
    "\n",
    "Кстати, про цвета! Мои комментарии будут в следующей цветовой гамме: зелеными, желтыми и красными. Например:\n",
    "\n",
    "<div class=\"alert-success\"> \n",
    "<b>Комментарий ревьюера 👍 </b>\n",
    "    \n",
    "В случае, если решение на отдельном шаге является полностью правильным. </div>\n",
    "\n",
    "<div class=\"alert-warning\"> \n",
    "<b>Комментарий ревьюера 💡</b> \n",
    "    \n",
    "В случае, если решение может стать еще лучше с некоторыми корректировками </div>\n",
    " \n",
    "<div class=\"alert-danger\"> \n",
    "<b>Комментарий ревьюера ❌</b> \n",
    "    \n",
    "В случае, если решение какого-то шага требует значительных изменений. Проект не может быть принят с первого раза, если ревью содержит комментарии, помеченные этим цветом </div>"
   ]
  },
  {
   "cell_type": "markdown",
   "id": "386f2ae7",
   "metadata": {
    "deletable": false,
    "editable": false,
    "id": "386f2ae7"
   },
   "source": [
    "# Исследование надежности заемщиков\n"
   ]
  },
  {
   "cell_type": "markdown",
   "id": "ffe86f65",
   "metadata": {
    "deletable": false,
    "editable": false,
    "id": "ffe86f65"
   },
   "source": [
    "Во второй части проекта вы выполните шаги 3 и 4. Их вручную проверит ревьюер.\n",
    "Чтобы вам не пришлось писать код заново для шагов 1 и 2, мы добавили авторские решения в ячейки с кодом. \n",
    "\n"
   ]
  },
  {
   "cell_type": "markdown",
   "id": "26613308",
   "metadata": {
    "deletable": false,
    "editable": false,
    "id": "26613308"
   },
   "source": [
    "## Откройте таблицу и изучите общую информацию о данных"
   ]
  },
  {
   "cell_type": "markdown",
   "id": "3c9f838e",
   "metadata": {
    "deletable": false,
    "editable": false,
    "id": "3c9f838e"
   },
   "source": [
    "**Задание 1. Импортируйте библиотеку pandas. Считайте данные из csv-файла в датафрейм и сохраните в переменную `data`. Путь к файлу:**\n",
    "\n",
    "`/datasets/data.csv`"
   ]
  },
  {
   "cell_type": "code",
   "execution_count": 1,
   "id": "77a68a90",
   "metadata": {
    "deletable": false,
    "id": "77a68a90"
   },
   "outputs": [],
   "source": [
    "import pandas as pd\n",
    "import seaborn as sbn\n",
    "\n",
    "\n",
    "try:\n",
    "    data = pd.read_csv('/datasets/data.csv')\n",
    "except:\n",
    "    data = pd.read_csv('https://code.s3.yandex.net/datasets/data.csv')"
   ]
  },
  {
   "cell_type": "markdown",
   "id": "45365635",
   "metadata": {
    "deletable": false,
    "editable": false,
    "id": "45365635"
   },
   "source": [
    "**Задание 2. Выведите первые 20 строчек датафрейма `data` на экран.**"
   ]
  },
  {
   "cell_type": "code",
   "execution_count": 2,
   "id": "b0451a9a",
   "metadata": {
    "deletable": false,
    "id": "b0451a9a",
    "outputId": "1a8f3ef2-d323-4ec2-ddf7-89670b5944c4"
   },
   "outputs": [
    {
     "data": {
      "text/html": [
       "<div>\n",
       "<style scoped>\n",
       "    .dataframe tbody tr th:only-of-type {\n",
       "        vertical-align: middle;\n",
       "    }\n",
       "\n",
       "    .dataframe tbody tr th {\n",
       "        vertical-align: top;\n",
       "    }\n",
       "\n",
       "    .dataframe thead th {\n",
       "        text-align: right;\n",
       "    }\n",
       "</style>\n",
       "<table border=\"1\" class=\"dataframe\">\n",
       "  <thead>\n",
       "    <tr style=\"text-align: right;\">\n",
       "      <th></th>\n",
       "      <th>children</th>\n",
       "      <th>days_employed</th>\n",
       "      <th>dob_years</th>\n",
       "      <th>education</th>\n",
       "      <th>education_id</th>\n",
       "      <th>family_status</th>\n",
       "      <th>family_status_id</th>\n",
       "      <th>gender</th>\n",
       "      <th>income_type</th>\n",
       "      <th>debt</th>\n",
       "      <th>total_income</th>\n",
       "      <th>purpose</th>\n",
       "    </tr>\n",
       "  </thead>\n",
       "  <tbody>\n",
       "    <tr>\n",
       "      <th>0</th>\n",
       "      <td>1</td>\n",
       "      <td>-8437.673028</td>\n",
       "      <td>42</td>\n",
       "      <td>высшее</td>\n",
       "      <td>0</td>\n",
       "      <td>женат / замужем</td>\n",
       "      <td>0</td>\n",
       "      <td>F</td>\n",
       "      <td>сотрудник</td>\n",
       "      <td>0</td>\n",
       "      <td>253875.639453</td>\n",
       "      <td>покупка жилья</td>\n",
       "    </tr>\n",
       "    <tr>\n",
       "      <th>1</th>\n",
       "      <td>1</td>\n",
       "      <td>-4024.803754</td>\n",
       "      <td>36</td>\n",
       "      <td>среднее</td>\n",
       "      <td>1</td>\n",
       "      <td>женат / замужем</td>\n",
       "      <td>0</td>\n",
       "      <td>F</td>\n",
       "      <td>сотрудник</td>\n",
       "      <td>0</td>\n",
       "      <td>112080.014102</td>\n",
       "      <td>приобретение автомобиля</td>\n",
       "    </tr>\n",
       "    <tr>\n",
       "      <th>2</th>\n",
       "      <td>0</td>\n",
       "      <td>-5623.422610</td>\n",
       "      <td>33</td>\n",
       "      <td>Среднее</td>\n",
       "      <td>1</td>\n",
       "      <td>женат / замужем</td>\n",
       "      <td>0</td>\n",
       "      <td>M</td>\n",
       "      <td>сотрудник</td>\n",
       "      <td>0</td>\n",
       "      <td>145885.952297</td>\n",
       "      <td>покупка жилья</td>\n",
       "    </tr>\n",
       "    <tr>\n",
       "      <th>3</th>\n",
       "      <td>3</td>\n",
       "      <td>-4124.747207</td>\n",
       "      <td>32</td>\n",
       "      <td>среднее</td>\n",
       "      <td>1</td>\n",
       "      <td>женат / замужем</td>\n",
       "      <td>0</td>\n",
       "      <td>M</td>\n",
       "      <td>сотрудник</td>\n",
       "      <td>0</td>\n",
       "      <td>267628.550329</td>\n",
       "      <td>дополнительное образование</td>\n",
       "    </tr>\n",
       "    <tr>\n",
       "      <th>4</th>\n",
       "      <td>0</td>\n",
       "      <td>340266.072047</td>\n",
       "      <td>53</td>\n",
       "      <td>среднее</td>\n",
       "      <td>1</td>\n",
       "      <td>гражданский брак</td>\n",
       "      <td>1</td>\n",
       "      <td>F</td>\n",
       "      <td>пенсионер</td>\n",
       "      <td>0</td>\n",
       "      <td>158616.077870</td>\n",
       "      <td>сыграть свадьбу</td>\n",
       "    </tr>\n",
       "    <tr>\n",
       "      <th>5</th>\n",
       "      <td>0</td>\n",
       "      <td>-926.185831</td>\n",
       "      <td>27</td>\n",
       "      <td>высшее</td>\n",
       "      <td>0</td>\n",
       "      <td>гражданский брак</td>\n",
       "      <td>1</td>\n",
       "      <td>M</td>\n",
       "      <td>компаньон</td>\n",
       "      <td>0</td>\n",
       "      <td>255763.565419</td>\n",
       "      <td>покупка жилья</td>\n",
       "    </tr>\n",
       "    <tr>\n",
       "      <th>6</th>\n",
       "      <td>0</td>\n",
       "      <td>-2879.202052</td>\n",
       "      <td>43</td>\n",
       "      <td>высшее</td>\n",
       "      <td>0</td>\n",
       "      <td>женат / замужем</td>\n",
       "      <td>0</td>\n",
       "      <td>F</td>\n",
       "      <td>компаньон</td>\n",
       "      <td>0</td>\n",
       "      <td>240525.971920</td>\n",
       "      <td>операции с жильем</td>\n",
       "    </tr>\n",
       "    <tr>\n",
       "      <th>7</th>\n",
       "      <td>0</td>\n",
       "      <td>-152.779569</td>\n",
       "      <td>50</td>\n",
       "      <td>СРЕДНЕЕ</td>\n",
       "      <td>1</td>\n",
       "      <td>женат / замужем</td>\n",
       "      <td>0</td>\n",
       "      <td>M</td>\n",
       "      <td>сотрудник</td>\n",
       "      <td>0</td>\n",
       "      <td>135823.934197</td>\n",
       "      <td>образование</td>\n",
       "    </tr>\n",
       "    <tr>\n",
       "      <th>8</th>\n",
       "      <td>2</td>\n",
       "      <td>-6929.865299</td>\n",
       "      <td>35</td>\n",
       "      <td>ВЫСШЕЕ</td>\n",
       "      <td>0</td>\n",
       "      <td>гражданский брак</td>\n",
       "      <td>1</td>\n",
       "      <td>F</td>\n",
       "      <td>сотрудник</td>\n",
       "      <td>0</td>\n",
       "      <td>95856.832424</td>\n",
       "      <td>на проведение свадьбы</td>\n",
       "    </tr>\n",
       "    <tr>\n",
       "      <th>9</th>\n",
       "      <td>0</td>\n",
       "      <td>-2188.756445</td>\n",
       "      <td>41</td>\n",
       "      <td>среднее</td>\n",
       "      <td>1</td>\n",
       "      <td>женат / замужем</td>\n",
       "      <td>0</td>\n",
       "      <td>M</td>\n",
       "      <td>сотрудник</td>\n",
       "      <td>0</td>\n",
       "      <td>144425.938277</td>\n",
       "      <td>покупка жилья для семьи</td>\n",
       "    </tr>\n",
       "    <tr>\n",
       "      <th>10</th>\n",
       "      <td>2</td>\n",
       "      <td>-4171.483647</td>\n",
       "      <td>36</td>\n",
       "      <td>высшее</td>\n",
       "      <td>0</td>\n",
       "      <td>женат / замужем</td>\n",
       "      <td>0</td>\n",
       "      <td>M</td>\n",
       "      <td>компаньон</td>\n",
       "      <td>0</td>\n",
       "      <td>113943.491460</td>\n",
       "      <td>покупка недвижимости</td>\n",
       "    </tr>\n",
       "    <tr>\n",
       "      <th>11</th>\n",
       "      <td>0</td>\n",
       "      <td>-792.701887</td>\n",
       "      <td>40</td>\n",
       "      <td>среднее</td>\n",
       "      <td>1</td>\n",
       "      <td>женат / замужем</td>\n",
       "      <td>0</td>\n",
       "      <td>F</td>\n",
       "      <td>сотрудник</td>\n",
       "      <td>0</td>\n",
       "      <td>77069.234271</td>\n",
       "      <td>покупка коммерческой недвижимости</td>\n",
       "    </tr>\n",
       "    <tr>\n",
       "      <th>12</th>\n",
       "      <td>0</td>\n",
       "      <td>NaN</td>\n",
       "      <td>65</td>\n",
       "      <td>среднее</td>\n",
       "      <td>1</td>\n",
       "      <td>гражданский брак</td>\n",
       "      <td>1</td>\n",
       "      <td>M</td>\n",
       "      <td>пенсионер</td>\n",
       "      <td>0</td>\n",
       "      <td>NaN</td>\n",
       "      <td>сыграть свадьбу</td>\n",
       "    </tr>\n",
       "    <tr>\n",
       "      <th>13</th>\n",
       "      <td>0</td>\n",
       "      <td>-1846.641941</td>\n",
       "      <td>54</td>\n",
       "      <td>неоконченное высшее</td>\n",
       "      <td>2</td>\n",
       "      <td>женат / замужем</td>\n",
       "      <td>0</td>\n",
       "      <td>F</td>\n",
       "      <td>сотрудник</td>\n",
       "      <td>0</td>\n",
       "      <td>130458.228857</td>\n",
       "      <td>приобретение автомобиля</td>\n",
       "    </tr>\n",
       "    <tr>\n",
       "      <th>14</th>\n",
       "      <td>0</td>\n",
       "      <td>-1844.956182</td>\n",
       "      <td>56</td>\n",
       "      <td>высшее</td>\n",
       "      <td>0</td>\n",
       "      <td>гражданский брак</td>\n",
       "      <td>1</td>\n",
       "      <td>F</td>\n",
       "      <td>компаньон</td>\n",
       "      <td>1</td>\n",
       "      <td>165127.911772</td>\n",
       "      <td>покупка жилой недвижимости</td>\n",
       "    </tr>\n",
       "    <tr>\n",
       "      <th>15</th>\n",
       "      <td>1</td>\n",
       "      <td>-972.364419</td>\n",
       "      <td>26</td>\n",
       "      <td>среднее</td>\n",
       "      <td>1</td>\n",
       "      <td>женат / замужем</td>\n",
       "      <td>0</td>\n",
       "      <td>F</td>\n",
       "      <td>сотрудник</td>\n",
       "      <td>0</td>\n",
       "      <td>116820.904450</td>\n",
       "      <td>строительство собственной недвижимости</td>\n",
       "    </tr>\n",
       "    <tr>\n",
       "      <th>16</th>\n",
       "      <td>0</td>\n",
       "      <td>-1719.934226</td>\n",
       "      <td>35</td>\n",
       "      <td>среднее</td>\n",
       "      <td>1</td>\n",
       "      <td>женат / замужем</td>\n",
       "      <td>0</td>\n",
       "      <td>F</td>\n",
       "      <td>сотрудник</td>\n",
       "      <td>0</td>\n",
       "      <td>289202.704229</td>\n",
       "      <td>недвижимость</td>\n",
       "    </tr>\n",
       "    <tr>\n",
       "      <th>17</th>\n",
       "      <td>0</td>\n",
       "      <td>-2369.999720</td>\n",
       "      <td>33</td>\n",
       "      <td>высшее</td>\n",
       "      <td>0</td>\n",
       "      <td>гражданский брак</td>\n",
       "      <td>1</td>\n",
       "      <td>M</td>\n",
       "      <td>сотрудник</td>\n",
       "      <td>0</td>\n",
       "      <td>90410.586745</td>\n",
       "      <td>строительство недвижимости</td>\n",
       "    </tr>\n",
       "    <tr>\n",
       "      <th>18</th>\n",
       "      <td>0</td>\n",
       "      <td>400281.136913</td>\n",
       "      <td>53</td>\n",
       "      <td>среднее</td>\n",
       "      <td>1</td>\n",
       "      <td>вдовец / вдова</td>\n",
       "      <td>2</td>\n",
       "      <td>F</td>\n",
       "      <td>пенсионер</td>\n",
       "      <td>0</td>\n",
       "      <td>56823.777243</td>\n",
       "      <td>на покупку подержанного автомобиля</td>\n",
       "    </tr>\n",
       "    <tr>\n",
       "      <th>19</th>\n",
       "      <td>0</td>\n",
       "      <td>-10038.818549</td>\n",
       "      <td>48</td>\n",
       "      <td>СРЕДНЕЕ</td>\n",
       "      <td>1</td>\n",
       "      <td>в разводе</td>\n",
       "      <td>3</td>\n",
       "      <td>F</td>\n",
       "      <td>сотрудник</td>\n",
       "      <td>0</td>\n",
       "      <td>242831.107982</td>\n",
       "      <td>на покупку своего автомобиля</td>\n",
       "    </tr>\n",
       "  </tbody>\n",
       "</table>\n",
       "</div>"
      ],
      "text/plain": [
       "    children  days_employed  dob_years            education  education_id  \\\n",
       "0          1   -8437.673028         42               высшее             0   \n",
       "1          1   -4024.803754         36              среднее             1   \n",
       "2          0   -5623.422610         33              Среднее             1   \n",
       "3          3   -4124.747207         32              среднее             1   \n",
       "4          0  340266.072047         53              среднее             1   \n",
       "5          0    -926.185831         27               высшее             0   \n",
       "6          0   -2879.202052         43               высшее             0   \n",
       "7          0    -152.779569         50              СРЕДНЕЕ             1   \n",
       "8          2   -6929.865299         35               ВЫСШЕЕ             0   \n",
       "9          0   -2188.756445         41              среднее             1   \n",
       "10         2   -4171.483647         36               высшее             0   \n",
       "11         0    -792.701887         40              среднее             1   \n",
       "12         0            NaN         65              среднее             1   \n",
       "13         0   -1846.641941         54  неоконченное высшее             2   \n",
       "14         0   -1844.956182         56               высшее             0   \n",
       "15         1    -972.364419         26              среднее             1   \n",
       "16         0   -1719.934226         35              среднее             1   \n",
       "17         0   -2369.999720         33               высшее             0   \n",
       "18         0  400281.136913         53              среднее             1   \n",
       "19         0  -10038.818549         48              СРЕДНЕЕ             1   \n",
       "\n",
       "       family_status  family_status_id gender income_type  debt  \\\n",
       "0    женат / замужем                 0      F   сотрудник     0   \n",
       "1    женат / замужем                 0      F   сотрудник     0   \n",
       "2    женат / замужем                 0      M   сотрудник     0   \n",
       "3    женат / замужем                 0      M   сотрудник     0   \n",
       "4   гражданский брак                 1      F   пенсионер     0   \n",
       "5   гражданский брак                 1      M   компаньон     0   \n",
       "6    женат / замужем                 0      F   компаньон     0   \n",
       "7    женат / замужем                 0      M   сотрудник     0   \n",
       "8   гражданский брак                 1      F   сотрудник     0   \n",
       "9    женат / замужем                 0      M   сотрудник     0   \n",
       "10   женат / замужем                 0      M   компаньон     0   \n",
       "11   женат / замужем                 0      F   сотрудник     0   \n",
       "12  гражданский брак                 1      M   пенсионер     0   \n",
       "13   женат / замужем                 0      F   сотрудник     0   \n",
       "14  гражданский брак                 1      F   компаньон     1   \n",
       "15   женат / замужем                 0      F   сотрудник     0   \n",
       "16   женат / замужем                 0      F   сотрудник     0   \n",
       "17  гражданский брак                 1      M   сотрудник     0   \n",
       "18    вдовец / вдова                 2      F   пенсионер     0   \n",
       "19         в разводе                 3      F   сотрудник     0   \n",
       "\n",
       "     total_income                                 purpose  \n",
       "0   253875.639453                           покупка жилья  \n",
       "1   112080.014102                 приобретение автомобиля  \n",
       "2   145885.952297                           покупка жилья  \n",
       "3   267628.550329              дополнительное образование  \n",
       "4   158616.077870                         сыграть свадьбу  \n",
       "5   255763.565419                           покупка жилья  \n",
       "6   240525.971920                       операции с жильем  \n",
       "7   135823.934197                             образование  \n",
       "8    95856.832424                   на проведение свадьбы  \n",
       "9   144425.938277                 покупка жилья для семьи  \n",
       "10  113943.491460                    покупка недвижимости  \n",
       "11   77069.234271       покупка коммерческой недвижимости  \n",
       "12            NaN                         сыграть свадьбу  \n",
       "13  130458.228857                 приобретение автомобиля  \n",
       "14  165127.911772              покупка жилой недвижимости  \n",
       "15  116820.904450  строительство собственной недвижимости  \n",
       "16  289202.704229                            недвижимость  \n",
       "17   90410.586745              строительство недвижимости  \n",
       "18   56823.777243      на покупку подержанного автомобиля  \n",
       "19  242831.107982            на покупку своего автомобиля  "
      ]
     },
     "execution_count": 2,
     "metadata": {},
     "output_type": "execute_result"
    }
   ],
   "source": [
    "data.head(20)"
   ]
  },
  {
   "cell_type": "markdown",
   "id": "0ed8f27f",
   "metadata": {
    "deletable": false,
    "editable": false,
    "id": "0ed8f27f"
   },
   "source": [
    "**Задание 3. Выведите основную информацию о датафрейме с помощью метода `info()`.**"
   ]
  },
  {
   "cell_type": "code",
   "execution_count": 3,
   "id": "ab3f863b",
   "metadata": {
    "deletable": false,
    "id": "ab3f863b",
    "outputId": "15376089-8dad-46c9-b520-c05248d43158"
   },
   "outputs": [
    {
     "name": "stdout",
     "output_type": "stream",
     "text": [
      "<class 'pandas.core.frame.DataFrame'>\n",
      "RangeIndex: 21525 entries, 0 to 21524\n",
      "Data columns (total 12 columns):\n",
      " #   Column            Non-Null Count  Dtype  \n",
      "---  ------            --------------  -----  \n",
      " 0   children          21525 non-null  int64  \n",
      " 1   days_employed     19351 non-null  float64\n",
      " 2   dob_years         21525 non-null  int64  \n",
      " 3   education         21525 non-null  object \n",
      " 4   education_id      21525 non-null  int64  \n",
      " 5   family_status     21525 non-null  object \n",
      " 6   family_status_id  21525 non-null  int64  \n",
      " 7   gender            21525 non-null  object \n",
      " 8   income_type       21525 non-null  object \n",
      " 9   debt              21525 non-null  int64  \n",
      " 10  total_income      19351 non-null  float64\n",
      " 11  purpose           21525 non-null  object \n",
      "dtypes: float64(2), int64(5), object(5)\n",
      "memory usage: 2.0+ MB\n"
     ]
    }
   ],
   "source": [
    "data.info()"
   ]
  },
  {
   "cell_type": "markdown",
   "id": "60e3e22d",
   "metadata": {
    "deletable": false,
    "editable": false,
    "id": "60e3e22d"
   },
   "source": [
    "## Предобработка данных"
   ]
  },
  {
   "cell_type": "markdown",
   "id": "03dc170c",
   "metadata": {
    "deletable": false,
    "editable": false,
    "id": "03dc170c"
   },
   "source": [
    "### Удаление пропусков"
   ]
  },
  {
   "cell_type": "markdown",
   "id": "a4f54eef",
   "metadata": {
    "deletable": false,
    "editable": false,
    "id": "a4f54eef"
   },
   "source": [
    "**Задание 4. Выведите количество пропущенных значений для каждого столбца. Используйте комбинацию двух методов.**"
   ]
  },
  {
   "cell_type": "code",
   "execution_count": 4,
   "id": "2dc372b2",
   "metadata": {
    "deletable": false,
    "id": "2dc372b2",
    "outputId": "81f4d817-781c-465c-ed15-91ce4446810d"
   },
   "outputs": [
    {
     "data": {
      "text/plain": [
       "children               0\n",
       "days_employed       2174\n",
       "dob_years              0\n",
       "education              0\n",
       "education_id           0\n",
       "family_status          0\n",
       "family_status_id       0\n",
       "gender                 0\n",
       "income_type            0\n",
       "debt                   0\n",
       "total_income        2174\n",
       "purpose                0\n",
       "dtype: int64"
      ]
     },
     "execution_count": 4,
     "metadata": {},
     "output_type": "execute_result"
    }
   ],
   "source": [
    "data.isna().sum()"
   ]
  },
  {
   "cell_type": "markdown",
   "id": "14f011b1",
   "metadata": {
    "deletable": false,
    "editable": false,
    "id": "14f011b1"
   },
   "source": [
    "**Задание 5. В двух столбцах есть пропущенные значения. Один из них — `days_employed`. Пропуски в этом столбце вы обработаете на следующем этапе. Другой столбец с пропущенными значениями — `total_income` — хранит данные о доходах. На сумму дохода сильнее всего влияет тип занятости, поэтому заполнить пропуски в этом столбце нужно медианным значением по каждому типу из столбца `income_type`. Например, у человека с типом занятости `сотрудник` пропуск в столбце `total_income` должен быть заполнен медианным доходом среди всех записей с тем же типом.**"
   ]
  },
  {
   "cell_type": "code",
   "execution_count": 5,
   "id": "bdabfb6e",
   "metadata": {
    "deletable": false,
    "id": "bdabfb6e"
   },
   "outputs": [],
   "source": [
    "for t in data['income_type'].unique():\n",
    "    data.loc[(data['income_type'] == t) & (data['total_income'].isna()), 'total_income'] = \\\n",
    "    data.loc[(data['income_type'] == t), 'total_income'].median()"
   ]
  },
  {
   "cell_type": "markdown",
   "id": "5be34059",
   "metadata": {
    "deletable": false,
    "editable": false,
    "id": "5be34059"
   },
   "source": [
    "### Обработка аномальных значений"
   ]
  },
  {
   "cell_type": "markdown",
   "id": "a87606cb",
   "metadata": {
    "deletable": false,
    "editable": false,
    "id": "a87606cb"
   },
   "source": [
    "**Задание 6. В данных могут встречаться артефакты (аномалии) — значения, которые не отражают действительность и появились по какой-то ошибке. таким артефактом будет отрицательное количество дней трудового стажа в столбце `days_employed`. Для реальных данных это нормально. Обработайте значения в этом столбце: замените все отрицательные значения положительными с помощью метода `abs()`.**"
   ]
  },
  {
   "cell_type": "code",
   "execution_count": 6,
   "id": "020c46cc",
   "metadata": {
    "deletable": false,
    "id": "020c46cc"
   },
   "outputs": [],
   "source": [
    "data['days_employed'] = data['days_employed'].abs()"
   ]
  },
  {
   "cell_type": "markdown",
   "id": "45538a3a",
   "metadata": {
    "deletable": false,
    "editable": false,
    "id": "45538a3a"
   },
   "source": [
    "**Задание 7. Для каждого типа занятости выведите медианное значение трудового стажа `days_employed` в днях.**"
   ]
  },
  {
   "cell_type": "code",
   "execution_count": 7,
   "id": "cd3e6328",
   "metadata": {
    "deletable": false,
    "id": "cd3e6328",
    "outputId": "801ef80e-522b-4668-f34e-565af7432bcf"
   },
   "outputs": [
    {
     "data": {
      "text/plain": [
       "income_type\n",
       "безработный        366413.652744\n",
       "в декрете            3296.759962\n",
       "госслужащий          2689.368353\n",
       "компаньон            1547.382223\n",
       "пенсионер          365213.306266\n",
       "предприниматель       520.848083\n",
       "сотрудник            1574.202821\n",
       "студент               578.751554\n",
       "Name: days_employed, dtype: float64"
      ]
     },
     "execution_count": 7,
     "metadata": {},
     "output_type": "execute_result"
    }
   ],
   "source": [
    "data.groupby('income_type')['days_employed'].agg('median')"
   ]
  },
  {
   "cell_type": "markdown",
   "id": "90c5f058",
   "metadata": {
    "deletable": false,
    "editable": false,
    "id": "90c5f058"
   },
   "source": [
    "У двух типов (безработные и пенсионеры) получатся аномально большие значения. Исправить такие значения сложно, поэтому оставьте их как есть."
   ]
  },
  {
   "cell_type": "markdown",
   "id": "9652e50d",
   "metadata": {
    "deletable": false,
    "editable": false,
    "id": "9652e50d"
   },
   "source": [
    "**Задание 8. Выведите перечень уникальных значений столбца `children`.**"
   ]
  },
  {
   "cell_type": "code",
   "execution_count": 8,
   "id": "dbb37b8e",
   "metadata": {
    "deletable": false,
    "id": "dbb37b8e",
    "outputId": "6975b15c-7f95-4697-d16d-a0c79b657b03"
   },
   "outputs": [
    {
     "data": {
      "text/plain": [
       "array([ 1,  0,  3,  2, -1,  4, 20,  5])"
      ]
     },
     "execution_count": 8,
     "metadata": {},
     "output_type": "execute_result"
    }
   ],
   "source": [
    "data['children'].unique()"
   ]
  },
  {
   "cell_type": "markdown",
   "id": "2b8b0715",
   "metadata": {
    "deletable": false,
    "editable": false,
    "id": "2b8b0715"
   },
   "source": [
    "**Задание 9. В столбце `children` есть два аномальных значения. Удалите строки, в которых встречаются такие аномальные значения из датафрейма `data`.**"
   ]
  },
  {
   "cell_type": "code",
   "execution_count": 9,
   "id": "20009df8",
   "metadata": {
    "deletable": false,
    "id": "20009df8"
   },
   "outputs": [],
   "source": [
    "data = data[(data['children'] != -1) & (data['children'] != 20)]"
   ]
  },
  {
   "cell_type": "markdown",
   "id": "8c6ac9f1",
   "metadata": {
    "deletable": false,
    "editable": false,
    "id": "8c6ac9f1"
   },
   "source": [
    "**Задание 10. Ещё раз выведите перечень уникальных значений столбца `children`, чтобы убедиться, что артефакты удалены.**"
   ]
  },
  {
   "cell_type": "code",
   "execution_count": 10,
   "id": "07337b81",
   "metadata": {
    "deletable": false,
    "id": "07337b81",
    "outputId": "b2097101-d49d-44d9-901b-32a65c9463d1"
   },
   "outputs": [
    {
     "data": {
      "text/plain": [
       "array([1, 0, 3, 2, 4, 5])"
      ]
     },
     "execution_count": 10,
     "metadata": {},
     "output_type": "execute_result"
    }
   ],
   "source": [
    "data['children'].unique()"
   ]
  },
  {
   "cell_type": "markdown",
   "id": "ee3f52d4",
   "metadata": {
    "deletable": false,
    "editable": false,
    "id": "ee3f52d4"
   },
   "source": [
    "### Удаление пропусков (продолжение)"
   ]
  },
  {
   "cell_type": "markdown",
   "id": "a700b0e4",
   "metadata": {
    "deletable": false,
    "editable": false,
    "id": "a700b0e4"
   },
   "source": [
    "**Задание 11. Заполните пропуски в столбце `days_employed` медианными значениями по каждого типа занятости `income_type`.**"
   ]
  },
  {
   "cell_type": "code",
   "execution_count": 11,
   "id": "61946b83",
   "metadata": {
    "deletable": false,
    "id": "61946b83"
   },
   "outputs": [],
   "source": [
    "for t in data['income_type'].unique():\n",
    "    data.loc[(data['income_type'] == t) & (data['days_employed'].isna()), 'days_employed'] = \\\n",
    "    data.loc[(data['income_type'] == t), 'days_employed'].median()"
   ]
  },
  {
   "cell_type": "markdown",
   "id": "550dcd9b",
   "metadata": {
    "deletable": false,
    "editable": false,
    "id": "550dcd9b"
   },
   "source": [
    "**Задание 12. Убедитесь, что все пропуски заполнены. Проверьте себя и ещё раз выведите количество пропущенных значений для каждого столбца с помощью двух методов.**"
   ]
  },
  {
   "cell_type": "code",
   "execution_count": 12,
   "id": "937c7014",
   "metadata": {
    "deletable": false,
    "id": "937c7014",
    "outputId": "8da1e4e1-358e-4e87-98c9-f261bce0a7b2"
   },
   "outputs": [
    {
     "data": {
      "text/plain": [
       "children            0\n",
       "days_employed       0\n",
       "dob_years           0\n",
       "education           0\n",
       "education_id        0\n",
       "family_status       0\n",
       "family_status_id    0\n",
       "gender              0\n",
       "income_type         0\n",
       "debt                0\n",
       "total_income        0\n",
       "purpose             0\n",
       "dtype: int64"
      ]
     },
     "execution_count": 12,
     "metadata": {},
     "output_type": "execute_result"
    }
   ],
   "source": [
    "data.isna().sum()"
   ]
  },
  {
   "cell_type": "markdown",
   "id": "d522e295",
   "metadata": {
    "deletable": false,
    "editable": false,
    "id": "d522e295"
   },
   "source": [
    "### Изменение типов данных"
   ]
  },
  {
   "cell_type": "markdown",
   "id": "c229c581",
   "metadata": {
    "deletable": false,
    "editable": false,
    "id": "c229c581"
   },
   "source": [
    "**Задание 13. Замените вещественный тип данных в столбце `total_income` на целочисленный с помощью метода `astype()`.**"
   ]
  },
  {
   "cell_type": "code",
   "execution_count": 13,
   "id": "31036462",
   "metadata": {
    "deletable": false,
    "id": "31036462"
   },
   "outputs": [],
   "source": [
    "data['total_income'] = data['total_income'].astype(int)"
   ]
  },
  {
   "cell_type": "markdown",
   "id": "b8e3d1d9",
   "metadata": {
    "deletable": false,
    "editable": false,
    "id": "b8e3d1d9"
   },
   "source": [
    "### Обработка дубликатов"
   ]
  },
  {
   "cell_type": "markdown",
   "id": "9be53c49",
   "metadata": {
    "deletable": false,
    "editable": false,
    "id": "9be53c49"
   },
   "source": [
    "**Задание 14. Обработайте неявные дубликаты в столбце `education`. В этом столбце есть одни и те же значения, но записанные по-разному: с использованием заглавных и строчных букв. Приведите их к нижнему регистру.**"
   ]
  },
  {
   "cell_type": "code",
   "execution_count": 14,
   "id": "d89e73e1",
   "metadata": {
    "deletable": false,
    "id": "d89e73e1"
   },
   "outputs": [],
   "source": [
    "data['education'] = data['education'].str.lower()"
   ]
  },
  {
   "cell_type": "markdown",
   "id": "01d4500e",
   "metadata": {
    "deletable": false,
    "editable": false,
    "id": "01d4500e"
   },
   "source": [
    "**Задание 15. Выведите на экран количество строк-дубликатов в данных. Если такие строки присутствуют, удалите их.**"
   ]
  },
  {
   "cell_type": "code",
   "execution_count": 15,
   "id": "e10efb23",
   "metadata": {
    "deletable": false,
    "id": "e10efb23",
    "outputId": "9684deba-1934-42d1-99e1-cda61740f822"
   },
   "outputs": [
    {
     "data": {
      "text/plain": [
       "71"
      ]
     },
     "execution_count": 15,
     "metadata": {},
     "output_type": "execute_result"
    }
   ],
   "source": [
    "data.duplicated().sum()"
   ]
  },
  {
   "cell_type": "code",
   "execution_count": 16,
   "id": "df853f20",
   "metadata": {
    "deletable": false,
    "id": "df853f20"
   },
   "outputs": [],
   "source": [
    "data = data.drop_duplicates()"
   ]
  },
  {
   "cell_type": "markdown",
   "id": "627be38f",
   "metadata": {
    "deletable": false,
    "editable": false,
    "id": "627be38f"
   },
   "source": [
    "### Категоризация данных"
   ]
  },
  {
   "cell_type": "markdown",
   "id": "4684c3e0",
   "metadata": {
    "deletable": false,
    "editable": false,
    "id": "4684c3e0"
   },
   "source": [
    "**Задание 16. На основании диапазонов, указанных ниже, создайте в датафрейме `data` столбец `total_income_category` с категориями:**\n",
    "\n",
    "- 0–30000 — `'E'`;\n",
    "- 30001–50000 — `'D'`;\n",
    "- 50001–200000 — `'C'`;\n",
    "- 200001–1000000 — `'B'`;\n",
    "- 1000001 и выше — `'A'`.\n",
    "\n",
    "\n",
    "**Например, кредитополучателю с доходом 25000 нужно назначить категорию `'E'`, а клиенту, получающему 235000, — `'B'`. Используйте собственную функцию с именем `categorize_income()` и метод `apply()`.**"
   ]
  },
  {
   "cell_type": "code",
   "execution_count": 17,
   "id": "78965238",
   "metadata": {
    "deletable": false,
    "id": "78965238"
   },
   "outputs": [],
   "source": [
    "def categorize_income(income):\n",
    "    try:\n",
    "        if 0 <= income <= 30000:\n",
    "            return 'E'\n",
    "        elif 30001 <= income <= 50000:\n",
    "            return 'D'\n",
    "        elif 50001 <= income <= 200000:\n",
    "            return 'C'\n",
    "        elif 200001 <= income <= 1000000:\n",
    "            return 'B'\n",
    "        elif income >= 1000001:\n",
    "            return 'A'\n",
    "    except:\n",
    "        pass"
   ]
  },
  {
   "cell_type": "code",
   "execution_count": 18,
   "id": "0980ada1",
   "metadata": {
    "deletable": false,
    "id": "0980ada1"
   },
   "outputs": [],
   "source": [
    "data['total_income_category'] = data['total_income'].apply(categorize_income)"
   ]
  },
  {
   "cell_type": "markdown",
   "id": "9917bba0",
   "metadata": {
    "deletable": false,
    "editable": false,
    "id": "9917bba0"
   },
   "source": [
    "**Задание 17. Выведите на экран перечень уникальных целей взятия кредита из столбца `purpose`.**"
   ]
  },
  {
   "cell_type": "code",
   "execution_count": 19,
   "id": "ee07b65e",
   "metadata": {
    "deletable": false,
    "id": "ee07b65e",
    "outputId": "673c12d9-7d7e-4ae0-9812-c622c89dd244"
   },
   "outputs": [
    {
     "data": {
      "text/plain": [
       "array(['покупка жилья', 'приобретение автомобиля',\n",
       "       'дополнительное образование', 'сыграть свадьбу',\n",
       "       'операции с жильем', 'образование', 'на проведение свадьбы',\n",
       "       'покупка жилья для семьи', 'покупка недвижимости',\n",
       "       'покупка коммерческой недвижимости', 'покупка жилой недвижимости',\n",
       "       'строительство собственной недвижимости', 'недвижимость',\n",
       "       'строительство недвижимости', 'на покупку подержанного автомобиля',\n",
       "       'на покупку своего автомобиля',\n",
       "       'операции с коммерческой недвижимостью',\n",
       "       'строительство жилой недвижимости', 'жилье',\n",
       "       'операции со своей недвижимостью', 'автомобили',\n",
       "       'заняться образованием', 'сделка с подержанным автомобилем',\n",
       "       'получение образования', 'автомобиль', 'свадьба',\n",
       "       'получение дополнительного образования', 'покупка своего жилья',\n",
       "       'операции с недвижимостью', 'получение высшего образования',\n",
       "       'свой автомобиль', 'сделка с автомобилем',\n",
       "       'профильное образование', 'высшее образование',\n",
       "       'покупка жилья для сдачи', 'на покупку автомобиля', 'ремонт жилью',\n",
       "       'заняться высшим образованием'], dtype=object)"
      ]
     },
     "execution_count": 19,
     "metadata": {},
     "output_type": "execute_result"
    }
   ],
   "source": [
    "data['purpose'].unique()"
   ]
  },
  {
   "cell_type": "markdown",
   "id": "52b79d56",
   "metadata": {
    "deletable": false,
    "editable": false,
    "id": "52b79d56"
   },
   "source": [
    "**Задание 18. Создайте функцию, которая на основании данных из столбца `purpose` сформирует новый столбец `purpose_category`, в который войдут следующие категории:**\n",
    "\n",
    "- `'операции с автомобилем'`,\n",
    "- `'операции с недвижимостью'`,\n",
    "- `'проведение свадьбы'`,\n",
    "- `'получение образования'`.\n",
    "\n",
    "**Например, если в столбце `purpose` находится подстрока `'на покупку автомобиля'`, то в столбце `purpose_category` должна появиться строка `'операции с автомобилем'`.**\n",
    "\n",
    "**Используйте собственную функцию с именем `categorize_purpose()` и метод `apply()`. Изучите данные в столбце `purpose` и определите, какие подстроки помогут вам правильно определить категорию.**"
   ]
  },
  {
   "cell_type": "code",
   "execution_count": 20,
   "id": "be41da5d",
   "metadata": {
    "deletable": false,
    "id": "be41da5d"
   },
   "outputs": [],
   "source": [
    "def categorize_purpose(row):\n",
    "    try:\n",
    "        if 'автом' in row:\n",
    "            return 'операции с автомобилем'\n",
    "        elif 'жил' in row or 'недвиж' in row:\n",
    "            return 'операции с недвижимостью'\n",
    "        elif 'свад' in row:\n",
    "            return 'проведение свадьбы'\n",
    "        elif 'образов' in row:\n",
    "            return 'получение образования'\n",
    "    except:\n",
    "        return 'нет категории'"
   ]
  },
  {
   "cell_type": "code",
   "execution_count": 21,
   "id": "94c4a19a",
   "metadata": {
    "deletable": false,
    "id": "94c4a19a"
   },
   "outputs": [],
   "source": [
    "data['purpose_category'] = data['purpose'].apply(categorize_purpose)"
   ]
  },
  {
   "cell_type": "markdown",
   "id": "3d596c34",
   "metadata": {
    "deletable": false,
    "editable": false,
    "id": "3d596c34"
   },
   "source": [
    "### Шаг 3. Исследуйте данные и ответьте на вопросы"
   ]
  },
  {
   "cell_type": "markdown",
   "id": "648db036",
   "metadata": {
    "deletable": false,
    "editable": false,
    "id": "648db036"
   },
   "source": [
    "#### 3.1 Есть ли зависимость между количеством детей и возвратом кредита в срок?"
   ]
  },
  {
   "cell_type": "code",
   "execution_count": 32,
   "id": "7fcff25e",
   "metadata": {
    "deletable": false,
    "id": "7fcff25e"
   },
   "outputs": [
    {
     "data": {
      "text/html": [
       "<div>\n",
       "<style scoped>\n",
       "    .dataframe tbody tr th:only-of-type {\n",
       "        vertical-align: middle;\n",
       "    }\n",
       "\n",
       "    .dataframe tbody tr th {\n",
       "        vertical-align: top;\n",
       "    }\n",
       "\n",
       "    .dataframe thead th {\n",
       "        text-align: right;\n",
       "    }\n",
       "</style>\n",
       "<table border=\"1\" class=\"dataframe\">\n",
       "  <thead>\n",
       "    <tr style=\"text-align: right;\">\n",
       "      <th></th>\n",
       "      <th>children</th>\n",
       "      <th>no_debt</th>\n",
       "      <th>debt</th>\n",
       "      <th>ratio_%</th>\n",
       "    </tr>\n",
       "  </thead>\n",
       "  <tbody>\n",
       "    <tr>\n",
       "      <th>0</th>\n",
       "      <td>0</td>\n",
       "      <td>13028</td>\n",
       "      <td>1063</td>\n",
       "      <td>7.543822</td>\n",
       "    </tr>\n",
       "    <tr>\n",
       "      <th>1</th>\n",
       "      <td>1</td>\n",
       "      <td>4364</td>\n",
       "      <td>444</td>\n",
       "      <td>9.234609</td>\n",
       "    </tr>\n",
       "    <tr>\n",
       "      <th>2</th>\n",
       "      <td>2</td>\n",
       "      <td>1858</td>\n",
       "      <td>194</td>\n",
       "      <td>9.454191</td>\n",
       "    </tr>\n",
       "    <tr>\n",
       "      <th>3</th>\n",
       "      <td>3</td>\n",
       "      <td>303</td>\n",
       "      <td>27</td>\n",
       "      <td>8.181818</td>\n",
       "    </tr>\n",
       "    <tr>\n",
       "      <th>4</th>\n",
       "      <td>4</td>\n",
       "      <td>37</td>\n",
       "      <td>4</td>\n",
       "      <td>9.756098</td>\n",
       "    </tr>\n",
       "    <tr>\n",
       "      <th>5</th>\n",
       "      <td>5</td>\n",
       "      <td>9</td>\n",
       "      <td>0</td>\n",
       "      <td>0.000000</td>\n",
       "    </tr>\n",
       "  </tbody>\n",
       "</table>\n",
       "</div>"
      ],
      "text/plain": [
       "   children  no_debt  debt   ratio_%\n",
       "0         0    13028  1063  7.543822\n",
       "1         1     4364   444  9.234609\n",
       "2         2     1858   194  9.454191\n",
       "3         3      303    27  8.181818\n",
       "4         4       37     4  9.756098\n",
       "5         5        9     0  0.000000"
      ]
     },
     "metadata": {},
     "output_type": "display_data"
    },
    {
     "data": {
      "text/plain": [
       "[Text(0.5, 1.0, 'Влияние количества детей')]"
      ]
     },
     "execution_count": 32,
     "metadata": {},
     "output_type": "execute_result"
    },
    {
     "data": {
      "image/png": "[encoded data removed]",
      "text/plain": [
       "<Figure size 432x288 with 1 Axes>"
      ]
     },
     "metadata": {
      "needs_background": "light"
     },
     "output_type": "display_data"
    }
   ],
   "source": [
    "#display(data['children'].value_counts()) #группировка по количеству детей\n",
    "#display(data.groupby('children')['debt'].sum()) #количество должников в каждой категориальной группе по количеству детей\n",
    "#display((data.groupby('children')['debt'].sum() / data['children'].value_counts()).map('{:.2%}'.format))# процент должников в каждой группе по количеству детей\n",
    "children_data_pivot = data.pivot_table(index=['children'], columns='debt', values='purpose_category', aggfunc='count') #создание сводной таблицы,  \n",
    "#индексы строк которой -  уникальные значения столбца 'children', колонки - своевременность отдачи кредита, подсчет количеста значений - из колонки 'purpose_category'\n",
    "#display(children_data_pivot) #вывод сводной таблицы\n",
    "children_data_pivot =  children_data_pivot.fillna(0)   # заполнение пропуска нулем\n",
    "children_data_pivot = children_data_pivot.reset_index()    # сброс мультииндексов\n",
    "children_data_pivot.columns = ['children', 'no_debt', 'debt'] # переименовываем название колонок в более понятные\n",
    "children_data_pivot['ratio_%'] = (children_data_pivot['debt'] / (children_data_pivot['debt'] + children_data_pivot['no_debt'])) *100 # добавляем столбец с долей должников в %\n",
    "children_data_pivot['debt'] = children_data_pivot['debt'].astype('int')    # переводим в цельночисленный формат \n",
    "children_data_pivot['no_debt'] = children_data_pivot['no_debt'].astype('int') # переводим в цельночисленный формат\n",
    "\n",
    "display(children_data_pivot) # вывод итоговой сводной таблицы зависимости кредитоплатежеспособности от количества детей\n",
    "sbn.barplot(x='children',y='ratio_%', data = children_data_pivot).set( \n",
    "    title=\"Влияние количества детей\")  # столбчатая диаграмма зависимости кредитоплатежеспособности от количества детей Ваш код будет здесь. Вы можете создавать новые ячейки."
   ]
  },
  {
   "cell_type": "markdown",
   "id": "2eb9088e",
   "metadata": {
    "deletable": false,
    "id": "2eb9088e"
   },
   "source": [
    "**Вывод:** \n",
    "\n",
    "Прослеживается небольшое различие между бездетными и заемщиками с детьми, если исключить слишком частную вборку в случае 5 детей, в которой вообще нет должников. Бездетные заемщики имеют просроченные задолженности примерно на 2% реже, чем заемщики с детьми, практически независимо от количества. Сложно предположить, с чем это связано, но, возможно, наличие детей дает какие-то поблажки в случае общения с приставами."
   ]
  },
  {
   "cell_type": "markdown",
   "id": "c1d5ae44",
   "metadata": {},
   "source": [
    "<div class=\"alert-success\"> \n",
    "<b>Комментарий ревьюера 👍 </b>\n",
    "    \n",
    "Молодец, что обратил внимание на размер категории семей с 5 детьми - по ней действительно не стоит делать какие-то выводы, ибо выборка мала. Можно определить зависимость, сравнивая только самые многочисленные категории с 0, 1 и 2 детьми."
   ]
  },
  {
   "cell_type": "markdown",
   "id": "b376fd46",
   "metadata": {},
   "source": [
    "<div class=\"alert-warning\"> \n",
    "<b>Комментарий ревьюера 💡</b> \n",
    "\n",
    "Не совсем понятно, зачем столько выводов табличек, если достаточно вывести последнюю \n",
    "\n",
    "Относится ко всем пунктам"
   ]
  },
  {
   "cell_type": "markdown",
   "id": "74c9b3a7",
   "metadata": {
    "deletable": false,
    "editable": false,
    "id": "74c9b3a7"
   },
   "source": [
    "#### 3.2 Есть ли зависимость между семейным положением и возвратом кредита в срок?"
   ]
  },
  {
   "cell_type": "code",
   "execution_count": 34,
   "id": "8098ab3b",
   "metadata": {
    "deletable": false,
    "id": "8098ab3b"
   },
   "outputs": [
    {
     "data": {
      "text/html": [
       "<div>\n",
       "<style scoped>\n",
       "    .dataframe tbody tr th:only-of-type {\n",
       "        vertical-align: middle;\n",
       "    }\n",
       "\n",
       "    .dataframe tbody tr th {\n",
       "        vertical-align: top;\n",
       "    }\n",
       "\n",
       "    .dataframe thead th {\n",
       "        text-align: right;\n",
       "    }\n",
       "</style>\n",
       "<table border=\"1\" class=\"dataframe\">\n",
       "  <thead>\n",
       "    <tr style=\"text-align: right;\">\n",
       "      <th></th>\n",
       "      <th>family_status</th>\n",
       "      <th>no_debt</th>\n",
       "      <th>debt</th>\n",
       "      <th>ratio_%</th>\n",
       "    </tr>\n",
       "  </thead>\n",
       "  <tbody>\n",
       "    <tr>\n",
       "      <th>0</th>\n",
       "      <td>Не женат / не замужем</td>\n",
       "      <td>2523</td>\n",
       "      <td>273</td>\n",
       "      <td>9.763948</td>\n",
       "    </tr>\n",
       "    <tr>\n",
       "      <th>1</th>\n",
       "      <td>в разводе</td>\n",
       "      <td>1105</td>\n",
       "      <td>84</td>\n",
       "      <td>7.064760</td>\n",
       "    </tr>\n",
       "    <tr>\n",
       "      <th>2</th>\n",
       "      <td>вдовец / вдова</td>\n",
       "      <td>888</td>\n",
       "      <td>63</td>\n",
       "      <td>6.624606</td>\n",
       "    </tr>\n",
       "    <tr>\n",
       "      <th>3</th>\n",
       "      <td>гражданский брак</td>\n",
       "      <td>3749</td>\n",
       "      <td>385</td>\n",
       "      <td>9.313014</td>\n",
       "    </tr>\n",
       "    <tr>\n",
       "      <th>4</th>\n",
       "      <td>женат / замужем</td>\n",
       "      <td>11334</td>\n",
       "      <td>927</td>\n",
       "      <td>7.560558</td>\n",
       "    </tr>\n",
       "  </tbody>\n",
       "</table>\n",
       "</div>"
      ],
      "text/plain": [
       "           family_status  no_debt  debt   ratio_%\n",
       "0  Не женат / не замужем     2523   273  9.763948\n",
       "1              в разводе     1105    84  7.064760\n",
       "2         вдовец / вдова      888    63  6.624606\n",
       "3       гражданский брак     3749   385  9.313014\n",
       "4        женат / замужем    11334   927  7.560558"
      ]
     },
     "metadata": {},
     "output_type": "display_data"
    },
    {
     "data": {
      "text/plain": [
       "[Text(0.5, 1.0, 'Влияние семейного статуса')]"
      ]
     },
     "execution_count": 34,
     "metadata": {},
     "output_type": "execute_result"
    },
    {
     "data": {
      "image/png": "[encoded data removed]",
      "text/plain": [
       "<Figure size 432x288 with 1 Axes>"
      ]
     },
     "metadata": {
      "needs_background": "light"
     },
     "output_type": "display_data"
    }
   ],
   "source": [
    "#display(data['family_status_id'].value_counts()) #группировка по семейному id\n",
    "#display(data['family_status'].value_counts()) #группировка по семейному статусу. Совпадают\n",
    "\n",
    "#display(data.groupby('family_status')['debt'].sum()) #количество должников в каждой категориальной группе\n",
    "#display((data.groupby('family_status')['debt'].sum() / data['family_status'].value_counts()).map('{:.2%}'.format)) #процент должников в каждой группе\n",
    "\n",
    "family_data_pivot = data.pivot_table(index=['family_status'], columns='debt', values='purpose_category', aggfunc='count').reset_index() #сводная таблица\n",
    "family_data_pivot.columns = ['family_status', 'no_debt', 'debt'] #переименование столбцов сводной таблицы\n",
    "family_data_pivot['ratio_%'] = (family_data_pivot['debt'] / (family_data_pivot['debt'] + family_data_pivot['no_debt'])) *100 #добавление столбца с долей должников\n",
    "display(family_data_pivot.head(10))\n",
    "sbn.barplot(x='ratio_%',y='family_status', data = family_data_pivot).set( \n",
    "    title=\"Влияние семейного статуса\") #вывод столбчатой диаграммы зависимости между семейным положением и возвратом кредита в срок# Ваш код будет здесь. Вы можете создавать новые ячейки."
   ]
  },
  {
   "cell_type": "markdown",
   "id": "c389ca63",
   "metadata": {
    "deletable": false,
    "id": "c389ca63"
   },
   "source": [
    "**Вывод:** \n",
    "\n",
    "Клиенты, не состоящие в браке и состоящие в неофициальных отношениях, на 2-3% чаще имеют задолженности по кредитам, чем состоящие или состоявшие в официальных отношениях. Возможно, это как-то отражает корреляцию отношения к социальным институтам.\n"
   ]
  },
  {
   "cell_type": "markdown",
   "id": "57bf5d48",
   "metadata": {},
   "source": [
    "<div class=\"alert-success\"> \n",
    "<b>Комментарий ревьюера 👍</b>\n",
    "\n",
    "Здорово, что не забываешь про промежуточные выводы"
   ]
  },
  {
   "cell_type": "markdown",
   "id": "9529de68",
   "metadata": {
    "deletable": false,
    "editable": false,
    "id": "9529de68"
   },
   "source": [
    "#### 3.3 Есть ли зависимость между уровнем дохода и возвратом кредита в срок?"
   ]
  },
  {
   "cell_type": "code",
   "execution_count": 33,
   "id": "8787f44a",
   "metadata": {
    "deletable": false,
    "id": "8787f44a"
   },
   "outputs": [
    {
     "data": {
      "text/html": [
       "<div>\n",
       "<style scoped>\n",
       "    .dataframe tbody tr th:only-of-type {\n",
       "        vertical-align: middle;\n",
       "    }\n",
       "\n",
       "    .dataframe tbody tr th {\n",
       "        vertical-align: top;\n",
       "    }\n",
       "\n",
       "    .dataframe thead th {\n",
       "        text-align: right;\n",
       "    }\n",
       "</style>\n",
       "<table border=\"1\" class=\"dataframe\">\n",
       "  <thead>\n",
       "    <tr style=\"text-align: right;\">\n",
       "      <th></th>\n",
       "      <th>total_income_category</th>\n",
       "      <th>no_debt</th>\n",
       "      <th>debt</th>\n",
       "      <th>ratio_%</th>\n",
       "    </tr>\n",
       "  </thead>\n",
       "  <tbody>\n",
       "    <tr>\n",
       "      <th>1000001+</th>\n",
       "      <td>A</td>\n",
       "      <td>23</td>\n",
       "      <td>2</td>\n",
       "      <td>8.00</td>\n",
       "    </tr>\n",
       "    <tr>\n",
       "      <th>200001-1000000</th>\n",
       "      <td>B</td>\n",
       "      <td>4660</td>\n",
       "      <td>354</td>\n",
       "      <td>7.06</td>\n",
       "    </tr>\n",
       "    <tr>\n",
       "      <th>50001-200000</th>\n",
       "      <td>C</td>\n",
       "      <td>14568</td>\n",
       "      <td>1353</td>\n",
       "      <td>8.50</td>\n",
       "    </tr>\n",
       "    <tr>\n",
       "      <th>30001-50000</th>\n",
       "      <td>D</td>\n",
       "      <td>328</td>\n",
       "      <td>21</td>\n",
       "      <td>6.02</td>\n",
       "    </tr>\n",
       "    <tr>\n",
       "      <th>0-30000</th>\n",
       "      <td>E</td>\n",
       "      <td>20</td>\n",
       "      <td>2</td>\n",
       "      <td>9.09</td>\n",
       "    </tr>\n",
       "  </tbody>\n",
       "</table>\n",
       "</div>"
      ],
      "text/plain": [
       "               total_income_category  no_debt  debt ratio_%\n",
       "1000001+                           A       23     2    8.00\n",
       "200001-1000000                     B     4660   354    7.06\n",
       "50001-200000                       C    14568  1353    8.50\n",
       "30001-50000                        D      328    21    6.02\n",
       "0-30000                            E       20     2    9.09"
      ]
     },
     "metadata": {},
     "output_type": "display_data"
    },
    {
     "data": {
      "text/plain": [
       "[Text(0.5, 1.0, 'Влияние уровня дохода')]"
      ]
     },
     "execution_count": 33,
     "metadata": {},
     "output_type": "execute_result"
    },
    {
     "data": {
      "image/png": "[encoded data removed]",
      "text/plain": [
       "<Figure size 432x288 with 1 Axes>"
      ]
     },
     "metadata": {
      "needs_background": "light"
     },
     "output_type": "display_data"
    }
   ],
   "source": [
    "overall_income_groups = data['total_income_category'].value_counts().sort_index()\n",
    "#display(overall_income_groups)\n",
    "debt_income_groups = data.groupby('total_income_category')['debt'].sum().sort_index()\n",
    "#display(debt_income_groups)\n",
    "#display(( debt_income_groups / overall_income_groups).map('{:.2%}'.format))# Ваш код будет здесь. Вы можете создавать новые ячейки.\n",
    "\n",
    "income_data_pivot = data.pivot_table(index=['total_income_category'], columns='debt', values='purpose_category', aggfunc='count').reset_index()\n",
    "income_data_pivot.columns = ['total_income_category', 'no_debt', 'debt']\n",
    "income_data_pivot['ratio_%'] = ((income_data_pivot['debt'] / (income_data_pivot['debt'] + income_data_pivot['no_debt'])) *100).map(\"{:.2f}\".format)\n",
    "#display(income_data_pivot.head(10))\n",
    "\n",
    "income_data_pivot.rename(index={0:'1000001+', 1:'200001-1000000', 2:'50001-200000', 3:'30001-50000', 4:'0-30000'}, inplace=True)\n",
    "display(income_data_pivot.head(10))\n",
    "\n",
    "income_data_pivot['ratio_%'] = ((income_data_pivot['debt'] / (income_data_pivot['debt'] + income_data_pivot['no_debt'])) *100)\n",
    "sbn.barplot(y='total_income_category',x='ratio_%', data = income_data_pivot).set( \n",
    "    title=\"Влияние уровня дохода\")# Ваш код будет здесь. Вы можете создавать новые ячейки."
   ]
  },
  {
   "cell_type": "markdown",
   "id": "6dd14b57",
   "metadata": {
    "deletable": false,
    "id": "6dd14b57"
   },
   "source": [
    "**Вывод:** \n",
    "\n",
    "Сложно делать выводы в случае категорий с самыми низкими и самыми высокими доходами из-за недостаточной выборки. из оставшихся трех групп самый высокий процент невозврата у заемщиком со средним доходом(8,5%), а самый низкий - у заемщиков с доходом ниже среднего(6%). Возможно, это просто гауссово распределение.\n"
   ]
  },
  {
   "cell_type": "markdown",
   "id": "4ead6c5c",
   "metadata": {},
   "source": [
    "<div class=\"alert-success\"> \n",
    "<b>Комментарий ревьюера 👍</b>\n",
    "\n",
    "Тут тоже верное замечание про маленький размер категорий"
   ]
  },
  {
   "cell_type": "markdown",
   "id": "1dcc9b12",
   "metadata": {
    "deletable": false,
    "editable": false,
    "id": "1dcc9b12"
   },
   "source": [
    "#### 3.4 Как разные цели кредита влияют на его возврат в срок?"
   ]
  },
  {
   "cell_type": "code",
   "execution_count": 35,
   "id": "c602bc8b",
   "metadata": {
    "deletable": false,
    "id": "c602bc8b"
   },
   "outputs": [
    {
     "data": {
      "text/html": [
       "<div>\n",
       "<style scoped>\n",
       "    .dataframe tbody tr th:only-of-type {\n",
       "        vertical-align: middle;\n",
       "    }\n",
       "\n",
       "    .dataframe tbody tr th {\n",
       "        vertical-align: top;\n",
       "    }\n",
       "\n",
       "    .dataframe thead th {\n",
       "        text-align: right;\n",
       "    }\n",
       "</style>\n",
       "<table border=\"1\" class=\"dataframe\">\n",
       "  <thead>\n",
       "    <tr style=\"text-align: right;\">\n",
       "      <th></th>\n",
       "      <th>purpose_category</th>\n",
       "      <th>no_debt</th>\n",
       "      <th>debt</th>\n",
       "      <th>ratio_%</th>\n",
       "    </tr>\n",
       "  </thead>\n",
       "  <tbody>\n",
       "    <tr>\n",
       "      <th>0</th>\n",
       "      <td>операции с автомобилем</td>\n",
       "      <td>3879</td>\n",
       "      <td>400</td>\n",
       "      <td>9.35</td>\n",
       "    </tr>\n",
       "    <tr>\n",
       "      <th>1</th>\n",
       "      <td>операции с недвижимостью</td>\n",
       "      <td>9971</td>\n",
       "      <td>780</td>\n",
       "      <td>7.26</td>\n",
       "    </tr>\n",
       "    <tr>\n",
       "      <th>2</th>\n",
       "      <td>получение образования</td>\n",
       "      <td>3619</td>\n",
       "      <td>369</td>\n",
       "      <td>9.25</td>\n",
       "    </tr>\n",
       "    <tr>\n",
       "      <th>3</th>\n",
       "      <td>проведение свадьбы</td>\n",
       "      <td>2130</td>\n",
       "      <td>183</td>\n",
       "      <td>7.91</td>\n",
       "    </tr>\n",
       "  </tbody>\n",
       "</table>\n",
       "</div>"
      ],
      "text/plain": [
       "           purpose_category  no_debt  debt ratio_%\n",
       "0    операции с автомобилем     3879   400    9.35\n",
       "1  операции с недвижимостью     9971   780    7.26\n",
       "2     получение образования     3619   369    9.25\n",
       "3        проведение свадьбы     2130   183    7.91"
      ]
     },
     "metadata": {},
     "output_type": "display_data"
    },
    {
     "data": {
      "text/plain": [
       "[Text(0.5, 1.0, 'Влияние цели кредита')]"
      ]
     },
     "execution_count": 35,
     "metadata": {},
     "output_type": "execute_result"
    },
    {
     "data": {
      "image/png": "[encoded data removed]",
      "text/plain": [
       "<Figure size 432x288 with 1 Axes>"
      ]
     },
     "metadata": {
      "needs_background": "light"
     },
     "output_type": "display_data"
    }
   ],
   "source": [
    "#display((data.groupby('purpose_category')['debt'].sum() / data['purpose_category'].value_counts()).map('{:.2%}'.format))# Ваш код будет здесь. Вы можете создавать новые ячейки.\n",
    "\n",
    "overall_purpose_groups = data['purpose_category'].value_counts().sort_index()\n",
    "#display(overall_purpose_groups)\n",
    "debt_purpose_groups = data.groupby('purpose_category')['debt'].sum().sort_index()\n",
    "#display(debt_purpose_groups)\n",
    "\n",
    "purpose_data_pivot = data.pivot_table(index=['purpose_category'], columns='debt', values='family_status_id', aggfunc='count').reset_index()\n",
    "purpose_data_pivot.columns = ['purpose_category', 'no_debt', 'debt']\n",
    "purpose_data_pivot['ratio_%'] = ((purpose_data_pivot['debt'] / (purpose_data_pivot['debt'] + purpose_data_pivot['no_debt'])) *100).map(\"{:.2f}\".format)\n",
    "display(purpose_data_pivot.head(10))\n",
    "\n",
    "purpose_data_pivot['ratio_%'] = ((purpose_data_pivot['debt'] / (purpose_data_pivot['debt'] + purpose_data_pivot['no_debt'])) *100)\n",
    "sbn.barplot(x='ratio_%',y='purpose_category', data = purpose_data_pivot).set( \n",
    "    title=\"Влияние цели кредита\")# Ваш код будет здесь. Вы можете создавать новые ячейки."
   ]
  },
  {
   "cell_type": "markdown",
   "id": "cf05ed63",
   "metadata": {
    "deletable": false,
    "id": "cf05ed63"
   },
   "source": [
    "**Вывод:** \n",
    "\n",
    "Все выборки достаточно объемные.\n",
    "Просрочек меньше всего в случае займов на недвижимость (7,26 %) и на свадьбу (7,91 %). В случае недвижимости слишком высок риск оказаться без объекта залога, а в случае свадьбы кредит, возможно, досрочно гасится из суммы подарков гостей.\n",
    "Клиенты, берущие кредиты на автомобиль(9.35) или образование(9.25), возвращают долг реже."
   ]
  },
  {
   "cell_type": "markdown",
   "id": "70bcc656",
   "metadata": {},
   "source": [
    "<div class=\"alert-success\"> \n",
    "<b>Комментарий ревьюера 👍</b>\n",
    "\n",
    "Хорошие сводные таблицы в целом в проекте\n",
    "\n",
    "Здорово, что добавлена визуализация, но не забывай подписывать графики, это важно"
   ]
  },
  {
   "cell_type": "markdown",
   "id": "46c1f10b",
   "metadata": {
    "deletable": false,
    "editable": false,
    "id": "46c1f10b"
   },
   "source": [
    "#### 3.5 Приведите возможные причины появления пропусков в исходных данных."
   ]
  },
  {
   "cell_type": "markdown",
   "id": "3697d2a9",
   "metadata": {
    "deletable": false,
    "id": "3697d2a9"
   },
   "source": [
    "*Ответ:* \n",
    "Пропуски находятся в столбцах days_employed и total_income, в количестве чуть меньше 10% от общего числа заемщиков.\n",
    "Видимой корреляции с определенной группой заемщиков не наблюдается. Пропуски могли возникнуть при заполнении данных или при переносе данных в базы работниками кредитного отдела.\n"
   ]
  },
  {
   "cell_type": "markdown",
   "id": "cd2d3c17",
   "metadata": {},
   "source": [
    "<div class=\"alert-success\"> \n",
    "<b>Комментарий ревьюера 👍</b>\n",
    "\n",
    "Согласен с названными тобою возможными причинами пропусков"
   ]
  },
  {
   "cell_type": "markdown",
   "id": "3137d257",
   "metadata": {
    "deletable": false,
    "editable": false,
    "id": "3137d257"
   },
   "source": [
    "#### 3.6 Объясните, почему заполнить пропуски медианным значением — лучшее решение для количественных переменных."
   ]
  },
  {
   "cell_type": "markdown",
   "id": "cf40012a",
   "metadata": {
    "deletable": false,
    "id": "cf40012a"
   },
   "source": [
    "*Ответ:* Среди выборки из количественных переменных могут попадаться аномально большие или малые значения, которые сильно смещают значение среднего, но практически не влияют на медианное"
   ]
  },
  {
   "cell_type": "markdown",
   "id": "7ad7529c",
   "metadata": {},
   "source": [
    "<div class=\"alert-success\"> \n",
    "<b>Комментарий ревьюера 👍 </b>\n",
    "    \n",
    "Верно, дело именно в том, что среднее сильно реагирует на выбросы, тем самым искажая наши данные, в отличие от медианы"
   ]
  },
  {
   "cell_type": "markdown",
   "id": "57bc304e",
   "metadata": {
    "deletable": false,
    "editable": false,
    "id": "57bc304e"
   },
   "source": [
    "### Шаг 4: общий вывод."
   ]
  },
  {
   "cell_type": "markdown",
   "id": "1ab75d1c",
   "metadata": {
    "deletable": false,
    "id": "1ab75d1c"
   },
   "source": [
    "В работе были проанализированы данные о заемщиках банка в части уровня их дохода, количества детей, семейного статуса и целей взятия кредита. В изначальной таблице данных был выявлен и обработан высокий процент пропущенных и аномальных значений в столбце стаж 'days_employed' и 'total_income'. Скорее всего, он вычисляется автоматически при заполнее дат трудовой деятельности, необходимо при заполнении формы установить правило на формат введения данных, чтобы исключить или минимизировать некорректно заполенные ячейки. На основании одинакого количества пропусков в столбцах стажа и дохода можно предположить, что их заполнение взаимосвязано, что нарушает структуру данных, так как информация об уровне дохода является ключевой для оценки риска возникновения долга, тогда как данные трудового стажа не играют определяющей роли.\n",
    "\n",
    "Для оценки влияния различных факторов на риск возникновения долга по займу были оценены зависимости процента должников от количества детей, уровня дохода, семейного статуса и целей кредита.\n",
    "\n",
    "Установлено, что отсутствие детей немного снижает риск возникновения долга: для заемщиков с 1-3 детьми уровень должников одинаковый. При этом в выборке представлены немногочисленные данные по заемщикам из многодетных семей, что не позволяет установить, каким будет выполнение долговых обязательств для этой категории заемщиков. Необходимо дополнить выборку заемщиками с количеством детей от 4-х и более для более точной проверки.\n",
    "\n",
    "Выявлено, что семейный опыт благополучно влияет на экономическое поведение заемщиков: доля долгов среди женатых/замужних и разведенных людей ниже, чем у холостых, при этом наиболее низкий процент должников среди вдов/вдовцов, вероятно, ввиду более зрелого возраста, отвественного отношения к финансам и более стабильного уровня доходов.\n",
    "\n",
    "По целям кредита наиболее низкий риск возникновения задолженностей среди кредитов - на недвижимость, что, скорее всего, связано с более осознанным принятием решения о дорогой покупке, а также с более детальной проверкой заемщиков перед выдачей кредита на приобретение недвижимости, высокими штрафными санкциями в случае просрочки данного типа кредита. Также наиболее низкая доля долгов - в случае кредитов на проведение свадеб, что, скорее всего, связано с небольшими суммами на проведение этого мероприятия. Наиболее высокий риск возникновения долга среди кредитов - на образование и автомобили, что, предположительно, связано с нестабильным уровнем дохода заемщиков, а также низким порогом проверки заемщиков для получения данного вида кредитов.\n",
    "\n",
    "Проведя изучение, предпоготовку и исследование данных по платежеспособности клиентов банка, в основном новоосвоенными средствами pandas, такими как группировка, аггрегация, сводные таблицы и т.п. При этом мы получили следующие данные:\n",
    "\n",
    "  Более ответственные заемщики:\n",
    "\n",
    "- `по количеству детей` - бездетные (7,54%);\n",
    "- `по семейному положению` - разведенные (7,06%) и овдовевшие (6,62 %);\n",
    "- `по уровню дохода` - с доходом ниже среднего (6,02 %);\n",
    "- `по цели кредита` - недвижимость (7,26 %) и свадьба (7,91 %);\n",
    ".\n",
    "\n",
    "  Менее ответственные заемщики:\n",
    "\n",
    "- `по количеству детей` - с детьми (~9,3%).Конкретное количество детей большой роли не играет;\n",
    "- `по семейному положению` - живущие в гражданском браке (9,31%), либо не состоящие в браке (9,76%);\n",
    "- `по уровню дохода` - со средним (8,5%) доходом;\n",
    "- `по цели кредита` - получение образования (9,25 %) или приобретение автомобиля (9,35 %).\n",
    "\n",
    "Идеальный заемщик по этим факторам - это клиент в разводе, либо вдовец / вдова, либо состоящий в официальном браке, без детей, с доходом ниже среднего или высоким, который берет кредит либо на свадьбу, либо на операции с недвижимостью.\n",
    "\n",
    "Самый же ненадежный умозрительный заемщик - это клиент, не состоящий в официальном браке, либо состоящий в гражданском браке, имеющий 1-2 детей, доход - средний или выше среднего, который берет кредит на образование или покупку автомобиля.\n",
    "\n",
    "Различия в платежеспособности различных групп довольно незначительны и могут иметь под собой множество причин, порой нетривиальных. Большое количество пропусков также могло исказить результат анализа. Для более точного определения вероятности невозврата долга, необходимо изучать данные клиента на более глубоком исследовании, проверив данные на зависимости различных факторов в совокупности, а не по отдельности."
   ]
  },
  {
   "cell_type": "markdown",
   "id": "a78dd410",
   "metadata": {},
   "source": [
    "    \n",
    "<div class=\"alert-warning\"> \n",
    "<b>Комментарий ревьюера 💡</b> \n",
    "    \n",
    "В вывод можно добавить информацию о данных с которыми была проведена работа, что было сделано тобою в проекте, построены сводные таблицы и т.д. Также можно добавить непосредственно рекомендации заказчику. Заказчик, зачастую, читает только общий вывод исследования - поэтому он должен быть максимально информативным и иметь итоги и рекомендации\n",
    "    \n",
    "Еще можно подробнее расписать итоги по каждой категории. Например, пишешь, что \"более отвественные заемщики это...\" - а по оставшимся группам что скажешь?"
   ]
  },
  {
   "cell_type": "markdown",
   "id": "b95e5606",
   "metadata": {},
   "source": [
    "<div class=\"alert-success\"> \n",
    "<b>Комментарий ревьюера 👍 Вторая итерация </b>\n",
    "\n",
    "Вывод стал информативнее и подробнее"
   ]
  },
  {
   "cell_type": "markdown",
   "id": "42f72ec3",
   "metadata": {},
   "source": [
    "<div class=\"alert-warning\"> \n",
    "<b>Комментарий ревьюера 💡</b> \n",
    "    \n",
    "Отличный проект, тобою проделана большая работа, ты молодец!\n",
    "\n",
    "Сперва похвалю за наличие везде промежуточных выводов, комментариев. Показываешь хорошие навыки владения инструментами Питона, сводными таблицами, group by. Даны верные ответы на поставленные вопросы.\n",
    "    \n",
    "Готов принять проект и так, потому что не было критических ошибок. Можешь отправлять проект без доработок, но если хочешь - можешь исправить желтые комментарии/задать свои вопросы по моим комментариям, проекту, DS в целом. Можешь еще попробовать добавить визуализацию в проект (но это по желанию). По визуализации могу посоветовать следующие материалы: 1. https://github.com/esokolov/ml-course-hse/blob/master/2022-fall/seminars/sem02-charts.ipynb 2. https://github.com/Palladain/Deep_Python/blob/main/Lectures/Lecture_3/Lecture_3_Python.ipynb\n",
    "\n",
    "Удачи!"
   ]
  },
  {
   "cell_type": "markdown",
   "id": "7a863f51",
   "metadata": {},
   "source": [
    "<div class=\"alert-success\"> \n",
    "<b>Комментарий ревьюера 👍 Вторая итерация </b>\n",
    "\n",
    "Проект стал еще лучше, принимаю. Успехов в дальнейшей учебе!"
   ]
  }
 ],
 "metadata": {
  "ExecuteTimeLog": [
   {
    "duration": 630,
    "start_time": "2024-01-07T18:05:10.143Z"
   },
   {
    "duration": 21,
    "start_time": "2024-01-07T18:05:10.775Z"
   },
   {
    "duration": 20,
    "start_time": "2024-01-07T18:05:10.797Z"
   },
   {
    "duration": 11,
    "start_time": "2024-01-07T18:05:10.819Z"
   },
   {
    "duration": 36,
    "start_time": "2024-01-07T18:05:10.831Z"
   },
   {
    "duration": 3,
    "start_time": "2024-01-07T18:05:10.869Z"
   },
   {
    "duration": 7,
    "start_time": "2024-01-07T18:05:10.893Z"
   },
   {
    "duration": 15,
    "start_time": "2024-01-07T18:05:10.902Z"
   },
   {
    "duration": 834,
    "start_time": "2024-01-13T15:17:29.211Z"
   },
   {
    "duration": 22,
    "start_time": "2024-01-13T15:17:30.047Z"
   },
   {
    "duration": 47,
    "start_time": "2024-01-13T15:17:30.070Z"
   },
   {
    "duration": 28,
    "start_time": "2024-01-13T15:17:30.119Z"
   },
   {
    "duration": 60,
    "start_time": "2024-01-13T15:17:30.148Z"
   },
   {
    "duration": 27,
    "start_time": "2024-01-13T15:17:30.210Z"
   },
   {
    "duration": 54,
    "start_time": "2024-01-13T15:17:30.238Z"
   },
   {
    "duration": 16,
    "start_time": "2024-01-13T15:17:30.294Z"
   },
   {
    "duration": 24,
    "start_time": "2024-01-13T15:17:30.311Z"
   },
   {
    "duration": 31,
    "start_time": "2024-01-13T15:17:30.338Z"
   },
   {
    "duration": 66,
    "start_time": "2024-01-13T15:17:30.370Z"
   },
   {
    "duration": 10,
    "start_time": "2024-01-13T15:17:30.438Z"
   },
   {
    "duration": 21,
    "start_time": "2024-01-13T15:17:30.449Z"
   },
   {
    "duration": 71,
    "start_time": "2024-01-13T15:17:30.471Z"
   },
   {
    "duration": 63,
    "start_time": "2024-01-13T15:17:30.544Z"
   },
   {
    "duration": 34,
    "start_time": "2024-01-13T15:17:30.609Z"
   },
   {
    "duration": 14,
    "start_time": "2024-01-13T15:17:30.645Z"
   },
   {
    "duration": 57,
    "start_time": "2024-01-13T15:17:30.661Z"
   },
   {
    "duration": 44,
    "start_time": "2024-01-13T15:17:30.719Z"
   },
   {
    "duration": 40,
    "start_time": "2024-01-13T15:17:30.765Z"
   },
   {
    "duration": 61,
    "start_time": "2024-01-13T15:17:30.807Z"
   },
   {
    "duration": 140,
    "start_time": "2024-01-13T15:17:30.870Z"
   },
   {
    "duration": 993,
    "start_time": "2024-01-13T15:18:12.930Z"
   },
   {
    "duration": 14,
    "start_time": "2024-01-13T15:18:13.925Z"
   },
   {
    "duration": 17,
    "start_time": "2024-01-13T15:18:13.941Z"
   },
   {
    "duration": 10,
    "start_time": "2024-01-13T15:18:13.959Z"
   },
   {
    "duration": 37,
    "start_time": "2024-01-13T15:18:13.970Z"
   },
   {
    "duration": 3,
    "start_time": "2024-01-13T15:18:14.008Z"
   },
   {
    "duration": 12,
    "start_time": "2024-01-13T15:18:14.013Z"
   },
   {
    "duration": 4,
    "start_time": "2024-01-13T15:18:14.042Z"
   },
   {
    "duration": 7,
    "start_time": "2024-01-13T15:18:14.048Z"
   },
   {
    "duration": 5,
    "start_time": "2024-01-13T15:18:14.058Z"
   },
   {
    "duration": 35,
    "start_time": "2024-01-13T15:18:14.064Z"
   },
   {
    "duration": 10,
    "start_time": "2024-01-13T15:18:14.100Z"
   },
   {
    "duration": 31,
    "start_time": "2024-01-13T15:18:14.111Z"
   },
   {
    "duration": 11,
    "start_time": "2024-01-13T15:18:14.144Z"
   },
   {
    "duration": 20,
    "start_time": "2024-01-13T15:18:14.157Z"
   },
   {
    "duration": 19,
    "start_time": "2024-01-13T15:18:14.179Z"
   },
   {
    "duration": 35,
    "start_time": "2024-01-13T15:18:14.200Z"
   },
   {
    "duration": 18,
    "start_time": "2024-01-13T15:18:14.237Z"
   },
   {
    "duration": 8,
    "start_time": "2024-01-13T15:18:14.257Z"
   },
   {
    "duration": 4,
    "start_time": "2024-01-13T15:18:14.266Z"
   },
   {
    "duration": 10,
    "start_time": "2024-01-13T15:18:14.271Z"
   },
   {
    "duration": 160,
    "start_time": "2024-01-13T15:18:14.805Z"
   },
   {
    "duration": 160,
    "start_time": "2024-01-13T15:19:51.855Z"
   },
   {
    "duration": 3,
    "start_time": "2024-01-13T15:20:40.152Z"
   },
   {
    "duration": 147,
    "start_time": "2024-01-13T15:20:43.460Z"
   },
   {
    "duration": 167,
    "start_time": "2024-01-13T15:21:17.108Z"
   },
   {
    "duration": 74,
    "start_time": "2024-01-13T15:34:54.554Z"
   },
   {
    "duration": 24,
    "start_time": "2024-01-13T15:34:54.630Z"
   },
   {
    "duration": 37,
    "start_time": "2024-01-13T15:34:54.655Z"
   },
   {
    "duration": 10,
    "start_time": "2024-01-13T15:34:54.694Z"
   },
   {
    "duration": 35,
    "start_time": "2024-01-13T15:34:54.706Z"
   },
   {
    "duration": 6,
    "start_time": "2024-01-13T15:34:54.742Z"
   },
   {
    "duration": 10,
    "start_time": "2024-01-13T15:34:54.750Z"
   },
   {
    "duration": 13,
    "start_time": "2024-01-13T15:34:54.761Z"
   },
   {
    "duration": 7,
    "start_time": "2024-01-13T15:34:54.775Z"
   },
   {
    "duration": 4,
    "start_time": "2024-01-13T15:34:54.783Z"
   },
   {
    "duration": 36,
    "start_time": "2024-01-13T15:34:54.788Z"
   },
   {
    "duration": 19,
    "start_time": "2024-01-13T15:34:54.841Z"
   },
   {
    "duration": 4,
    "start_time": "2024-01-13T15:34:54.862Z"
   },
   {
    "duration": 13,
    "start_time": "2024-01-13T15:34:54.869Z"
   },
   {
    "duration": 33,
    "start_time": "2024-01-13T15:34:54.883Z"
   },
   {
    "duration": 29,
    "start_time": "2024-01-13T15:34:54.918Z"
   },
   {
    "duration": 5,
    "start_time": "2024-01-13T15:34:54.953Z"
   },
   {
    "duration": 32,
    "start_time": "2024-01-13T15:34:54.959Z"
   },
   {
    "duration": 16,
    "start_time": "2024-01-13T15:34:54.994Z"
   },
   {
    "duration": 8,
    "start_time": "2024-01-13T15:34:55.011Z"
   },
   {
    "duration": 19,
    "start_time": "2024-01-13T15:34:55.021Z"
   },
   {
    "duration": 174,
    "start_time": "2024-01-13T15:34:55.042Z"
   },
   {
    "duration": 174,
    "start_time": "2024-01-13T15:34:55.218Z"
   },
   {
    "duration": 171,
    "start_time": "2024-01-13T15:34:55.393Z"
   },
   {
    "duration": 233,
    "start_time": "2024-01-13T15:34:55.565Z"
   },
   {
    "duration": 1381,
    "start_time": "2024-01-13T16:04:02.794Z"
   },
   {
    "duration": 19,
    "start_time": "2024-01-13T16:04:04.177Z"
   },
   {
    "duration": 17,
    "start_time": "2024-01-13T16:04:04.198Z"
   },
   {
    "duration": 10,
    "start_time": "2024-01-13T16:04:04.217Z"
   },
   {
    "duration": 37,
    "start_time": "2024-01-13T16:04:04.228Z"
   },
   {
    "duration": 28,
    "start_time": "2024-01-13T16:04:04.266Z"
   },
   {
    "duration": 19,
    "start_time": "2024-01-13T16:04:04.295Z"
   },
   {
    "duration": 21,
    "start_time": "2024-01-13T16:04:04.316Z"
   },
   {
    "duration": 7,
    "start_time": "2024-01-13T16:04:04.338Z"
   },
   {
    "duration": 10,
    "start_time": "2024-01-13T16:04:04.347Z"
   },
   {
    "duration": 44,
    "start_time": "2024-01-13T16:04:04.359Z"
   },
   {
    "duration": 10,
    "start_time": "2024-01-13T16:04:04.405Z"
   },
   {
    "duration": 3,
    "start_time": "2024-01-13T16:04:04.416Z"
   },
   {
    "duration": 16,
    "start_time": "2024-01-13T16:04:04.420Z"
   },
   {
    "duration": 24,
    "start_time": "2024-01-13T16:04:04.437Z"
   },
   {
    "duration": 36,
    "start_time": "2024-01-13T16:04:04.462Z"
   },
   {
    "duration": 3,
    "start_time": "2024-01-13T16:04:04.500Z"
   },
   {
    "duration": 11,
    "start_time": "2024-01-13T16:04:04.505Z"
   },
   {
    "duration": 8,
    "start_time": "2024-01-13T16:04:04.517Z"
   },
   {
    "duration": 3,
    "start_time": "2024-01-13T16:04:04.527Z"
   },
   {
    "duration": 12,
    "start_time": "2024-01-13T16:04:04.531Z"
   },
   {
    "duration": 196,
    "start_time": "2024-01-13T16:04:04.544Z"
   },
   {
    "duration": 182,
    "start_time": "2024-01-13T16:04:04.741Z"
   },
   {
    "duration": 154,
    "start_time": "2024-01-13T16:04:04.924Z"
   },
   {
    "duration": 165,
    "start_time": "2024-01-13T16:04:05.079Z"
   },
   {
    "duration": 79,
    "start_time": "2024-01-13T17:15:44.811Z"
   },
   {
    "duration": 16,
    "start_time": "2024-01-13T17:15:44.892Z"
   },
   {
    "duration": 18,
    "start_time": "2024-01-13T17:15:44.909Z"
   },
   {
    "duration": 11,
    "start_time": "2024-01-13T17:15:44.928Z"
   },
   {
    "duration": 60,
    "start_time": "2024-01-13T17:15:44.942Z"
   },
   {
    "duration": 4,
    "start_time": "2024-01-13T17:15:45.003Z"
   },
   {
    "duration": 38,
    "start_time": "2024-01-13T17:15:45.008Z"
   },
   {
    "duration": 8,
    "start_time": "2024-01-13T17:15:45.048Z"
   },
   {
    "duration": 21,
    "start_time": "2024-01-13T17:15:45.057Z"
   },
   {
    "duration": 20,
    "start_time": "2024-01-13T17:15:45.080Z"
   },
   {
    "duration": 58,
    "start_time": "2024-01-13T17:15:45.102Z"
   },
   {
    "duration": 11,
    "start_time": "2024-01-13T17:15:45.162Z"
   },
   {
    "duration": 28,
    "start_time": "2024-01-13T17:15:45.175Z"
   },
   {
    "duration": 55,
    "start_time": "2024-01-13T17:15:45.206Z"
   },
   {
    "duration": 25,
    "start_time": "2024-01-13T17:15:45.262Z"
   },
   {
    "duration": 17,
    "start_time": "2024-01-13T17:15:45.288Z"
   },
   {
    "duration": 4,
    "start_time": "2024-01-13T17:15:45.306Z"
   },
   {
    "duration": 15,
    "start_time": "2024-01-13T17:15:45.312Z"
   },
   {
    "duration": 11,
    "start_time": "2024-01-13T17:15:45.328Z"
   },
   {
    "duration": 9,
    "start_time": "2024-01-13T17:15:45.340Z"
   },
   {
    "duration": 10,
    "start_time": "2024-01-13T17:15:45.350Z"
   },
   {
    "duration": 180,
    "start_time": "2024-01-13T17:15:45.362Z"
   },
   {
    "duration": 168,
    "start_time": "2024-01-13T17:15:45.544Z"
   },
   {
    "duration": 161,
    "start_time": "2024-01-13T17:15:45.714Z"
   },
   {
    "duration": 171,
    "start_time": "2024-01-13T17:15:45.876Z"
   },
   {
    "duration": 1428,
    "start_time": "2024-01-14T23:11:09.368Z"
   },
   {
    "duration": 17,
    "start_time": "2024-01-14T23:11:10.798Z"
   },
   {
    "duration": 39,
    "start_time": "2024-01-14T23:11:10.817Z"
   },
   {
    "duration": 9,
    "start_time": "2024-01-14T23:11:10.858Z"
   },
   {
    "duration": 32,
    "start_time": "2024-01-14T23:11:10.868Z"
   },
   {
    "duration": 3,
    "start_time": "2024-01-14T23:11:10.901Z"
   },
   {
    "duration": 8,
    "start_time": "2024-01-14T23:11:10.905Z"
   },
   {
    "duration": 4,
    "start_time": "2024-01-14T23:11:10.914Z"
   },
   {
    "duration": 16,
    "start_time": "2024-01-14T23:11:10.919Z"
   },
   {
    "duration": 5,
    "start_time": "2024-01-14T23:11:10.937Z"
   },
   {
    "duration": 46,
    "start_time": "2024-01-14T23:11:10.943Z"
   },
   {
    "duration": 9,
    "start_time": "2024-01-14T23:11:10.990Z"
   },
   {
    "duration": 10,
    "start_time": "2024-01-14T23:11:11.000Z"
   },
   {
    "duration": 30,
    "start_time": "2024-01-14T23:11:11.012Z"
   },
   {
    "duration": 19,
    "start_time": "2024-01-14T23:11:11.044Z"
   },
   {
    "duration": 16,
    "start_time": "2024-01-14T23:11:11.064Z"
   },
   {
    "duration": 3,
    "start_time": "2024-01-14T23:11:11.081Z"
   },
   {
    "duration": 23,
    "start_time": "2024-01-14T23:11:11.085Z"
   },
   {
    "duration": 7,
    "start_time": "2024-01-14T23:11:11.109Z"
   },
   {
    "duration": 5,
    "start_time": "2024-01-14T23:11:11.117Z"
   },
   {
    "duration": 10,
    "start_time": "2024-01-14T23:11:11.123Z"
   },
   {
    "duration": 159,
    "start_time": "2024-01-14T23:11:11.134Z"
   },
   {
    "duration": 155,
    "start_time": "2024-01-14T23:11:11.295Z"
   },
   {
    "duration": 149,
    "start_time": "2024-01-14T23:11:11.452Z"
   },
   {
    "duration": 144,
    "start_time": "2024-01-14T23:11:11.602Z"
   },
   {
    "duration": 122,
    "start_time": "2024-01-14T23:11:37.300Z"
   },
   {
    "duration": 139,
    "start_time": "2024-01-14T23:12:20.395Z"
   },
   {
    "duration": 127,
    "start_time": "2024-01-14T23:12:43.466Z"
   },
   {
    "duration": 219,
    "start_time": "2024-01-14T23:15:11.337Z"
   },
   {
    "duration": 141,
    "start_time": "2024-01-14T23:16:04.052Z"
   },
   {
    "duration": 191,
    "start_time": "2024-01-14T23:18:04.318Z"
   },
   {
    "duration": 125,
    "start_time": "2024-01-14T23:19:16.327Z"
   },
   {
    "duration": 140,
    "start_time": "2024-01-14T23:20:37.646Z"
   },
   {
    "duration": 132,
    "start_time": "2024-01-14T23:20:40.874Z"
   },
   {
    "duration": 146,
    "start_time": "2024-01-14T23:21:14.585Z"
   }
  ],
  "colab": {
   "provenance": []
  },
  "kernelspec": {
   "display_name": "Python 3 (ipykernel)",
   "language": "python",
   "name": "python3"
  },
  "language_info": {
   "codemirror_mode": {
    "name": "ipython",
    "version": 3
   },
   "file_extension": ".py",
   "mimetype": "text/x-python",
   "name": "python",
   "nbconvert_exporter": "python",
   "pygments_lexer": "ipython3",
   "version": "3.9.5"
  },
  "toc": {
   "base_numbering": 1,
   "nav_menu": {},
   "number_sections": true,
   "sideBar": true,
   "skip_h1_title": true,
   "title_cell": "Table of Contents",
   "title_sidebar": "Contents",
   "toc_cell": false,
   "toc_position": {},
   "toc_section_display": true,
   "toc_window_display": false
  }
 },
 "nbformat": 4,
 "nbformat_minor": 5
}
